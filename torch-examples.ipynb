{
 "cells": [
  {
   "cell_type": "code",
   "execution_count": 1,
   "id": "756f3fad-1c17-4f77-b07a-c46bf7d0680a",
   "metadata": {},
   "outputs": [
    {
     "name": "stdout",
     "output_type": "stream",
     "text": [
      "cuda\n"
     ]
    }
   ],
   "source": [
    "import torch\n",
    "import torch.nn as nn\n",
    "from torch.nn import functional as F\n",
    "import numpy as np\n",
    "import time\n",
    "device = 'cuda' if torch.cuda.is_available() else 'cpu'\n",
    "print(device)"
   ]
  },
  {
   "cell_type": "code",
   "execution_count": 26,
   "id": "45ae2a1d-9c72-4e42-a904-772c7b28deba",
   "metadata": {},
   "outputs": [
    {
     "name": "stdout",
     "output_type": "stream",
     "text": [
      "0.00000000\n",
      "CPU times: total: 0 ns\n",
      "Wall time: 0 ns\n"
     ]
    }
   ],
   "source": [
    "%%time\n",
    "start_time = time.time()\n",
    "# matrix operations here\n",
    "zeros = torch.zeros(1, 1)\n",
    "end_time = time.time()\n",
    "\n",
    "elapsed_time = end_time - start_time\n",
    "print(f\"{elapsed_time:.8f}\")"
   ]
  },
  {
   "cell_type": "code",
   "execution_count": 25,
   "id": "30d34e0a-0ab5-4166-825b-c3ef61749429",
   "metadata": {},
   "outputs": [
    {
     "name": "stdout",
     "output_type": "stream",
     "text": [
      "0.06290841\n",
      "0.20578933\n"
     ]
    },
    {
     "name": "stderr",
     "output_type": "stream",
     "text": [
      "C:\\Users\\Tarun\\AppData\\Local\\Temp\\ipykernel_8424\\3696300768.py:18: DeprecationWarning: __array_wrap__ must accept context and return_scalar arguments (positionally) in the future. (Deprecated NumPy 2.0)\n",
      "  rand = np.multiply(np_rand1, np_rand2)\n"
     ]
    }
   ],
   "source": [
    "torch_rand1 = torch.rand(100, 100, 100, 100).to(device)\n",
    "torch_rand2 = torch.rand(100, 100, 100, 100).to(device)\n",
    "np_rand1 = torch.rand(100, 100, 100, 100)\n",
    "np_rand2 = torch.rand(100, 100, 100, 100)\n",
    "\n",
    "start_time = time.time()\n",
    "\n",
    "rand = (torch_rand1 @ torch_rand2)\n",
    "\n",
    "end_time = time.time()\n",
    "\n",
    "elapsed_time = end_time - start_time\n",
    "print(f\"{elapsed_time:.8f}\")\n",
    "\n",
    "\n",
    "start_time = time.time()\n",
    "\n",
    "rand = np.multiply(np_rand1, np_rand2)\n",
    "end_time = time.time()\n",
    "elapsed_time = end_time - start_time\n",
    "print(f\"{elapsed_time:.8f}\")"
   ]
  },
  {
   "cell_type": "code",
   "execution_count": 27,
   "id": "35aeb8d6-d76b-437e-bbee-72f05f0bb302",
   "metadata": {},
   "outputs": [
    {
     "name": "stdout",
     "output_type": "stream",
     "text": [
      "tensor([0, 0, 1, 1, 1, 1, 1, 1, 1, 1])\n"
     ]
    }
   ],
   "source": [
    "# embeddings, torch.stack, torch.multinomial, torch.tril, torch.triu, input.T / input.transpose, nn.Linear, torch.cat, F.softmax (show all the examples of functions/methods with pytorch docs)\n",
    "\n",
    "\n",
    "# Define a probability tensor\n",
    "probabilities = torch.tensor([0.1, 0.9])\n",
    "# 10% or 0.1 => 0, 90% or 0.9 => 1. each probability points to the index of the probability in the tensor\n",
    "# Draw 5 samples from the multinomial distribution\n",
    "samples = torch.multinomial(probabilities, num_samples=10, replacement=True)\n",
    "print(samples)"
   ]
  },
  {
   "cell_type": "code",
   "execution_count": 28,
   "id": "96a954ba-c562-451e-bd88-7017d1b9f903",
   "metadata": {},
   "outputs": [
    {
     "data": {
      "text/plain": [
       "tensor([1, 2, 3, 4, 5])"
      ]
     },
     "execution_count": 28,
     "metadata": {},
     "output_type": "execute_result"
    }
   ],
   "source": [
    "tensor = torch.tensor([1, 2, 3, 4])\n",
    "out = torch.cat((tensor, torch.tensor([5])), dim=0)\n",
    "out"
   ]
  },
  {
   "cell_type": "code",
   "execution_count": 29,
   "id": "3ce500dd-bf63-470e-b517-19cdb540756c",
   "metadata": {},
   "outputs": [
    {
     "data": {
      "text/plain": [
       "tensor([[1., 0., 0., 0., 0.],\n",
       "        [1., 1., 0., 0., 0.],\n",
       "        [1., 1., 1., 0., 0.],\n",
       "        [1., 1., 1., 1., 0.],\n",
       "        [1., 1., 1., 1., 1.]])"
      ]
     },
     "execution_count": 29,
     "metadata": {},
     "output_type": "execute_result"
    }
   ],
   "source": [
    "out = torch.tril(torch.ones(5, 5))\n",
    "out"
   ]
  },
  {
   "cell_type": "code",
   "execution_count": 30,
   "id": "e3ce56de-e5ba-44e3-a33c-2766475ec7ec",
   "metadata": {},
   "outputs": [
    {
     "data": {
      "text/plain": [
       "tensor([[1., 1., 1., 1., 1.],\n",
       "        [0., 1., 1., 1., 1.],\n",
       "        [0., 0., 1., 1., 1.],\n",
       "        [0., 0., 0., 1., 1.],\n",
       "        [0., 0., 0., 0., 1.]])"
      ]
     },
     "execution_count": 30,
     "metadata": {},
     "output_type": "execute_result"
    }
   ],
   "source": [
    "out = torch.triu(torch.ones(5, 5))\n",
    "out"
   ]
  },
  {
   "cell_type": "code",
   "execution_count": 31,
   "id": "343e6f1c-b93c-45a6-8809-20d99edd088d",
   "metadata": {},
   "outputs": [
    {
     "data": {
      "text/plain": [
       "tensor([[0., -inf, -inf, -inf, -inf],\n",
       "        [0., 0., -inf, -inf, -inf],\n",
       "        [0., 0., 0., -inf, -inf],\n",
       "        [0., 0., 0., 0., -inf],\n",
       "        [0., 0., 0., 0., 0.]])"
      ]
     },
     "execution_count": 31,
     "metadata": {},
     "output_type": "execute_result"
    }
   ],
   "source": [
    "out = torch.zeros(5, 5).masked_fill(torch.tril(torch.ones(5, 5)) == 0, float('-inf'))\n",
    "out"
   ]
  },
  {
   "cell_type": "code",
   "execution_count": 32,
   "id": "21497a32-da1c-4349-9677-797fa85963f5",
   "metadata": {},
   "outputs": [
    {
     "data": {
      "text/plain": [
       "tensor([[1., 0., 0., 0., 0.],\n",
       "        [1., 1., 0., 0., 0.],\n",
       "        [1., 1., 1., 0., 0.],\n",
       "        [1., 1., 1., 1., 0.],\n",
       "        [1., 1., 1., 1., 1.]])"
      ]
     },
     "execution_count": 32,
     "metadata": {},
     "output_type": "execute_result"
    }
   ],
   "source": [
    "torch.exp(out)"
   ]
  },
  {
   "cell_type": "code",
   "execution_count": 33,
   "id": "56445006-483b-49b7-8dfd-ce466cd5e306",
   "metadata": {},
   "outputs": [
    {
     "data": {
      "text/plain": [
       "torch.Size([4, 3, 2])"
      ]
     },
     "execution_count": 33,
     "metadata": {},
     "output_type": "execute_result"
    }
   ],
   "source": [
    "input=torch.zeros(2,3,4)\n",
    "out=input.transpose(0,2)\n",
    "out.shape"
   ]
  },
  {
   "cell_type": "code",
   "execution_count": 34,
   "id": "a772b794-6a34-46bb-b522-96daaf56eb6e",
   "metadata": {},
   "outputs": [
    {
     "data": {
      "text/plain": [
       "tensor([[1, 2, 3],\n",
       "        [4, 5, 6],\n",
       "        [7, 8, 9]])"
      ]
     },
     "execution_count": 34,
     "metadata": {},
     "output_type": "execute_result"
    }
   ],
   "source": [
    "tensor1 = torch.tensor([1, 2, 3])\n",
    "tensor2 = torch.tensor([4, 5, 6])\n",
    "tensor3 = torch.tensor([7, 8, 9])\n",
    "\n",
    "# Stack the tensors along a new dimension\n",
    "stacked_tensor = torch.stack([tensor1, tensor2, tensor3])\n",
    "stacked_tensor"
   ]
  },
  {
   "cell_type": "code",
   "execution_count": 38,
   "id": "92ee0238-ede4-4a16-b843-d3b636060b21",
   "metadata": {},
   "outputs": [
    {
     "name": "stdout",
     "output_type": "stream",
     "text": [
      "tensor([-7.9537, 12.1127,  7.9768], grad_fn=<SqueezeBackward4>)\n"
     ]
    }
   ],
   "source": [
    "sample = torch.tensor([10.,10.,10.])\n",
    "linear = nn.Linear(3, 3, bias=False)\n",
    "print(linear(sample))"
   ]
  },
  {
   "cell_type": "code",
   "execution_count": 39,
   "id": "d1d9d0a4-4803-4f4e-9e8f-7a74b0023559",
   "metadata": {},
   "outputs": [
    {
     "name": "stdout",
     "output_type": "stream",
     "text": [
      "tensor([0.0900, 0.2447, 0.6652])\n"
     ]
    }
   ],
   "source": [
    "import torch.nn.functional as F\n",
    "\n",
    "# Create a tensor\n",
    "tensor1 = torch.tensor([1.0, 2.0, 3.0])\n",
    "\n",
    "# Apply softmax using torch.nn.functional.softmax()\n",
    "softmax_output = F.softmax(tensor1, dim=0)\n",
    "\n",
    "print(softmax_output)"
   ]
  },
  {
   "cell_type": "code",
   "execution_count": 42,
   "id": "ffc6ce40-5996-4248-bc5c-c88de8d6c7f3",
   "metadata": {},
   "outputs": [
    {
     "name": "stdout",
     "output_type": "stream",
     "text": [
      "torch.Size([4, 6])\n",
      "tensor([[ 0.5569, -0.9119, -0.5215,  0.3064, -2.1756, -1.2479],\n",
      "        [-0.0393,  0.8459,  1.0073,  1.0810, -0.1768,  0.8353],\n",
      "        [-0.5861,  0.9545,  1.4130, -0.1748,  1.0764, -0.5451],\n",
      "        [-0.3136,  0.0357, -0.7520,  1.4575, -0.3046, -0.1692]],\n",
      "       grad_fn=<EmbeddingBackward0>)\n"
     ]
    }
   ],
   "source": [
    "# Initialize an embedding layer\n",
    "vocab_size = 80\n",
    "embedding_dim = 6\n",
    "embedding = nn.Embedding(vocab_size, embedding_dim)\n",
    "\n",
    "# Create some input indices\n",
    "input_indices = torch.LongTensor([1, 5, 3, 2])\n",
    "\n",
    "# Apply the embedding layer\n",
    "embedded_output = embedding(input_indices)\n",
    "\n",
    "# The output will be a tensor of shape (4, 100), where 4 is the number of inputs\n",
    "# and 100 is the dimensionality of the embedding vectors\n",
    "print(embedded_output.shape)\n",
    "print(embedded_output)"
   ]
  },
  {
   "cell_type": "code",
   "execution_count": 43,
   "id": "40900aae-139d-45e7-a1ce-9953f6668e58",
   "metadata": {},
   "outputs": [
    {
     "name": "stdout",
     "output_type": "stream",
     "text": [
      "tensor([[ 27,  30,  33],\n",
      "        [ 61,  68,  75],\n",
      "        [ 95, 106, 117]])\n"
     ]
    }
   ],
   "source": [
    "a = torch.tensor([[1,2],[3,4],[5,6]])\n",
    "b = torch.tensor([[7,8,9],[10,11,12]])\n",
    "# print(a @ b)\n",
    "print(torch.matmul(a, b))"
   ]
  },
  {
   "cell_type": "code",
   "execution_count": 44,
   "id": "10a41dd2-ad96-4501-9f33-8c84dce9fb5e",
   "metadata": {},
   "outputs": [
    {
     "name": "stdout",
     "output_type": "stream",
     "text": [
      "tensor([[0., 0., 0.],\n",
      "        [0., 0., 0.],\n",
      "        [0., 0., 0.]])\n"
     ]
    }
   ],
   "source": [
    "int_64 = torch.randint(1, (3, 2)).float()\n",
    "#type int64\n",
    "float_32 = torch.rand(2,3)\n",
    "#type float32\n",
    "# print(int_64.dtype, float_32.dtype)\n",
    "result = torch.matmul(int_64, float_32)\n",
    "print(result)"
   ]
  },
  {
   "cell_type": "code",
   "execution_count": 46,
   "id": "5fb56f9f-efb6-4cfd-bed5-110010e3f9f5",
   "metadata": {},
   "outputs": [
    {
     "name": "stdout",
     "output_type": "stream",
     "text": [
      "torch.Size([2, 3, 5])\n",
      "torch.Size([2, 3, 5])\n"
     ]
    }
   ],
   "source": [
    "a = torch.rand(2, 3, 5)\n",
    "print(a.shape)\n",
    "x, y, z = a.shape\n",
    "a = a.view(x,y,z)\n",
    "# print(x, y, z)\n",
    "print(a.shape)"
   ]
  },
  {
   "cell_type": "code",
   "execution_count": 2,
   "id": "a088eb4f-15dc-4c01-b115-05733ca8b425",
   "metadata": {},
   "outputs": [
    {
     "name": "stdout",
     "output_type": "stream",
     "text": [
      "tensor([[0.5690, 0.2264, 0.4231, 0.9472, 0.8086, 0.2792, 0.3556, 0.9447, 0.6316,\n",
      "         0.0132],\n",
      "        [0.2122, 0.6783, 0.9981, 0.7865, 0.2623, 0.1418, 0.6276, 0.8439, 0.3920,\n",
      "         0.9679],\n",
      "        [0.7417, 0.5526, 0.9617, 0.0561, 0.8096, 0.9368, 0.0947, 0.8895, 0.2162,\n",
      "         0.7736],\n",
      "        [0.6089, 0.8832, 0.0985, 0.3176, 0.8970, 0.5496, 0.6727, 0.1268, 0.3861,\n",
      "         0.0442],\n",
      "        [0.2740, 0.0341, 0.9302, 0.0483, 0.8053, 0.9747, 0.8621, 0.5593, 0.2442,\n",
      "         0.6940],\n",
      "        [0.3662, 0.9584, 0.0839, 0.8025, 0.5564, 0.6915, 0.0858, 0.5093, 0.8034,\n",
      "         0.9241],\n",
      "        [0.4466, 0.0560, 0.9556, 0.5790, 0.4869, 0.5968, 0.7623, 0.4830, 0.4650,\n",
      "         0.7939],\n",
      "        [0.0683, 0.1841, 0.5271, 0.0583, 0.0126, 0.0598, 0.5805, 0.0661, 0.6376,\n",
      "         0.1302],\n",
      "        [0.3033, 0.0966, 0.1410, 0.6028, 0.9182, 0.7702, 0.2429, 0.1803, 0.8160,\n",
      "         0.7998],\n",
      "        [0.5707, 0.9842, 0.1835, 0.6489, 0.7928, 0.7093, 0.7834, 0.2246, 0.0703,\n",
      "         0.5467],\n",
      "        [0.8774, 0.4062, 0.4968, 0.1250, 0.0682, 0.9548, 0.1795, 0.6041, 0.6344,\n",
      "         0.5627],\n",
      "        [0.6793, 0.5393, 0.5032, 0.6516, 0.9213, 0.2075, 0.9803, 0.5415, 0.7765,\n",
      "         0.8662],\n",
      "        [0.5983, 0.9021, 0.4161, 0.9121, 0.6877, 0.7614, 0.9456, 0.7170, 0.4210,\n",
      "         0.3364],\n",
      "        [0.1592, 0.7645, 0.7244, 0.8917, 0.1684, 0.0443, 0.1884, 0.3269, 0.4441,\n",
      "         0.8652],\n",
      "        [0.7678, 0.6099, 0.5378, 0.6130, 0.8264, 0.7653, 0.6144, 0.7364, 0.4212,\n",
      "         0.7326],\n",
      "        [0.7346, 0.6484, 0.6590, 0.3006, 0.4585, 0.5843, 0.2736, 0.2318, 0.8753,\n",
      "         0.1194],\n",
      "        [0.7590, 0.0157, 0.6057, 0.5713, 0.6906, 0.7474, 0.0226, 0.5858, 0.6038,\n",
      "         0.3665],\n",
      "        [0.8146, 0.8440, 0.6103, 0.4703, 0.2213, 0.1408, 0.2798, 0.3612, 0.0119,\n",
      "         0.1474],\n",
      "        [0.4062, 0.6277, 0.8644, 0.6717, 0.6939, 0.9577, 0.2972, 0.7615, 0.2229,\n",
      "         0.1957],\n",
      "        [0.9423, 0.8437, 0.0076, 0.2568, 0.4677, 0.5209, 0.6260, 0.9387, 0.2633,\n",
      "         0.4355],\n",
      "        [0.6163, 0.0269, 0.4046, 0.4704, 0.4360, 0.5745, 0.7342, 0.4017, 0.1154,\n",
      "         0.5089],\n",
      "        [0.5477, 0.2208, 0.3339, 0.1282, 0.6689, 0.7938, 0.9159, 0.9218, 0.4729,\n",
      "         0.5159],\n",
      "        [0.6059, 0.9962, 0.2118, 0.0886, 0.5518, 0.5764, 0.9592, 0.4952, 0.2520,\n",
      "         0.5868],\n",
      "        [0.9229, 0.6049, 0.1816, 0.2502, 0.1238, 0.4462, 0.1903, 0.9986, 0.3532,\n",
      "         0.8876],\n",
      "        [0.5746, 0.2300, 0.1303, 0.4253, 0.7947, 0.8926, 0.1579, 0.2908, 0.2368,\n",
      "         0.3585],\n",
      "        [0.1113, 0.1302, 0.0452, 0.1955, 0.3835, 0.0194, 0.5392, 0.5924, 0.5237,\n",
      "         0.1995],\n",
      "        [0.4299, 0.1682, 0.3150, 0.4059, 0.7538, 0.1030, 0.4637, 0.6483, 0.6917,\n",
      "         0.2244],\n",
      "        [0.9009, 0.3171, 0.8736, 0.9690, 0.3285, 0.7395, 0.7425, 0.8696, 0.2150,\n",
      "         0.0616],\n",
      "        [0.6268, 0.2030, 0.8340, 0.7819, 0.6621, 0.6643, 0.5873, 0.4718, 0.4724,\n",
      "         0.6288],\n",
      "        [0.2217, 0.8956, 0.9814, 0.7476, 0.1275, 0.5923, 0.4302, 0.8547, 0.4882,\n",
      "         0.9493],\n",
      "        [0.8012, 0.8114, 0.7639, 0.9059, 0.0218, 0.2531, 0.8816, 0.0248, 0.7906,\n",
      "         0.7025],\n",
      "        [0.3872, 0.5319, 0.4304, 0.2976, 0.6434, 0.4982, 0.6751, 0.5908, 0.8034,\n",
      "         0.6184]])\n"
     ]
    },
    {
     "ename": "IndexError",
     "evalue": "too many indices for tensor of dimension 2",
     "output_type": "error",
     "traceback": [
      "\u001b[1;31m---------------------------------------------------------------------------\u001b[0m",
      "\u001b[1;31mIndexError\u001b[0m                                Traceback (most recent call last)",
      "Cell \u001b[1;32mIn[2], line 6\u001b[0m\n\u001b[0;32m      4\u001b[0m \u001b[38;5;28mprint\u001b[39m(output)\n\u001b[0;32m      5\u001b[0m \u001b[38;5;66;03m# print(input)\u001b[39;00m\n\u001b[1;32m----> 6\u001b[0m \u001b[38;5;28mprint\u001b[39m(\u001b[43moutput\u001b[49m\u001b[43m[\u001b[49m\u001b[43m:\u001b[49m\u001b[43m,\u001b[49m\u001b[43m \u001b[49m\u001b[38;5;241;43m-\u001b[39;49m\u001b[38;5;241;43m1\u001b[39;49m\u001b[43m,\u001b[49m\u001b[43m \u001b[49m\u001b[43m:\u001b[49m\u001b[43m]\u001b[49m)\n",
      "\u001b[1;31mIndexError\u001b[0m: too many indices for tensor of dimension 2"
     ]
    }
   ],
   "source": [
    "input = torch.rand((4, 8, 10))\n",
    "B, T, C = input.shape\n",
    "output = input.view(B*T, C)\n",
    "print(output)\n",
    "# print(input)\n",
    "print(output[:, -1, :])"
   ]
  },
  {
   "cell_type": "code",
   "execution_count": 3,
   "id": "16d3411c-9ebf-4210-b57f-d96711bacb75",
   "metadata": {},
   "outputs": [
    {
     "name": "stdout",
     "output_type": "stream",
     "text": [
      "tensor([1.])\n"
     ]
    }
   ],
   "source": [
    "x = torch.tensor([10], dtype=torch.float32)\n",
    "y = F.tanh(x)\n",
    "print(y)"
   ]
  }
 ],
 "metadata": {
  "kernelspec": {
   "display_name": "Python 3 (ipykernel)",
   "language": "python",
   "name": "python3"
  },
  "language_info": {
   "codemirror_mode": {
    "name": "ipython",
    "version": 3
   },
   "file_extension": ".py",
   "mimetype": "text/x-python",
   "name": "python",
   "nbconvert_exporter": "python",
   "pygments_lexer": "ipython3",
   "version": "3.12.7"
  }
 },
 "nbformat": 4,
 "nbformat_minor": 5
}
